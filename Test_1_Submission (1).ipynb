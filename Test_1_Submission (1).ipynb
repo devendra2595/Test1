{
  "metadata": {
    "kernelspec": {
      "name": "python",
      "display_name": "Pyolite",
      "language": "python"
    },
    "language_info": {
      "codemirror_mode": {
        "name": "python",
        "version": 3
      },
      "file_extension": ".py",
      "mimetype": "text/x-python",
      "name": "python",
      "nbconvert_exporter": "python",
      "pygments_lexer": "ipython3",
      "version": "3.8"
    }
  },
  "nbformat_minor": 4,
  "nbformat": 4,
  "cells": [
    {
      "cell_type": "markdown",
      "source": "<center>\n    <img src=\"https://s3-api.us-geo.objectstorage.softlayer.net/cf-courses-data/CognitiveClass/Logos/organization_logo/organization_logo.png\" width=\"300\" alt=\"cognitiveclass.ai logo\"  />\n</center>\n",
      "metadata": {}
    },
    {
      "cell_type": "markdown",
      "source": "#### Add your code below following the instructions given in the course\n",
      "metadata": {}
    },
    {
      "cell_type": "markdown",
      "source": "# My Jupyter Notebook on IBM Watson Studio",
      "metadata": {
        "tags": []
      }
    },
    {
      "cell_type": "markdown",
      "source": "**Devendra Sirsath**",
      "metadata": {}
    },
    {
      "cell_type": "markdown",
      "source": "Currently Sales Manager, aspiring to be Data Scientist",
      "metadata": {
        "tags": []
      }
    },
    {
      "cell_type": "markdown",
      "source": "*I am interested in data science because, I am passionate about Data*",
      "metadata": {
        "tags": []
      }
    },
    {
      "cell_type": "markdown",
      "source": "### The Following code checks if a given triangle is right-angled or not",
      "metadata": {
        "tags": []
      }
    },
    {
      "cell_type": "code",
      "source": "def right_angle(a,b,c):\n    if (a*a+b*b==c*c) or (c*c+b*b==a*a) or (a*a+c*c==b*b):\n        return \"The triangle is right angled.\"\n    else:\n        return \"The triangle is not right angled.\"\n\nright_angle(5,12,13)",
      "metadata": {
        "tags": [],
        "trusted": true
      },
      "execution_count": 10,
      "outputs": [
        {
          "execution_count": 10,
          "output_type": "execute_result",
          "data": {
            "text/plain": "'The triangle is right angled.'"
          },
          "metadata": {}
        }
      ]
    },
    {
      "cell_type": "markdown",
      "source": "- One\n- Two\n- Three\n\n**Title 1**|**Title 2**|**Title 3**\n---|---|---\n*laptop*|keyboard|mouse\n~~charger~~|headphones|mousepad\n1|2|3\n\nwww.python.com",
      "metadata": {
        "tags": []
      }
    },
    {
      "cell_type": "code",
      "source": "",
      "metadata": {},
      "execution_count": null,
      "outputs": []
    }
  ]
}